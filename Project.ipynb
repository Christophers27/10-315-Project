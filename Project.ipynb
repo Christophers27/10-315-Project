{
  "cells": [
    {
      "cell_type": "markdown",
      "metadata": {
        "id": "0laPSUqxUavr"
      },
      "source": [
        "# Effects of Model Complexity and Structure with Image Classification\n",
        "\n",
        "By: Alexander Jiang, Christopher Setiabudi, Tanvir Rasul"
      ]
    },
    {
      "cell_type": "markdown",
      "metadata": {
        "id": "XLyi6mbvn0FL"
      },
      "source": [
        "## Model Card\n",
        "\n",
        "Task Input: 3x32x32 Image\n",
        "\n",
        "Task Output: Class (integer representing 1 of 10 classes)\n",
        "\n",
        "Training Dataset: CIFAR-10\n",
        "\n",
        "Intended Use: Classify images into one of ten classes\n",
        "\n",
        "Risks: None we can think of"
      ]
    },
    {
      "cell_type": "markdown",
      "metadata": {
        "id": "UulcLdpQoVyD"
      },
      "source": [
        "## Introduction\n",
        "\n",
        "With an image classification task, we will analyze the performance and efficiency of two computer vision architectures, given limited computational resources and time. We will be implementing a traditional Convolutional Neural Network (CNN) and a pre-trained Vision Transformer. The dataset consists of 3x32x32 images, with an integer label from 0-9 (10 classes: airplane, automobile, bird, cat, deer, dog, frog, horse, ship, truck)."
      ]
    },
    {
      "cell_type": "code",
      "execution_count": 1,
      "metadata": {
        "id": "Qw2T00_EnjgP"
      },
      "outputs": [],
      "source": [
        "trainingFlag = True"
      ]
    },
    {
      "cell_type": "markdown",
      "metadata": {
        "id": "tpq1U6K6GeTu"
      },
      "source": [
        "## Install and import libraries"
      ]
    },
    {
      "cell_type": "code",
      "execution_count": 2,
      "metadata": {
        "id": "OLNAwGYSEs1_"
      },
      "outputs": [],
      "source": [
        "# Import necessary packages\n",
        "import matplotlib.pyplot as plt\n",
        "\n",
        "import torch\n",
        "import torch.nn as nn\n",
        "import torch.optim as optim\n",
        "from torch.utils.data import DataLoader\n",
        "from torchvision import transforms, datasets, models"
      ]
    },
    {
      "cell_type": "code",
      "execution_count": 3,
      "metadata": {
        "id": "kcBm2EK3waJa"
      },
      "outputs": [],
      "source": [
        "# Hyperparameters\n",
        "batch_size = 25\n",
        "lr = 0.001\n",
        "num_epochs = 100\n",
        "\n",
        "# Set device\n",
        "device = torch.device('cuda' if torch.cuda.is_available() else 'cpu')"
      ]
    },
    {
      "cell_type": "markdown",
      "metadata": {
        "id": "JISXSdEMGmJd"
      },
      "source": [
        "## Download and prepare dataset"
      ]
    },
    {
      "cell_type": "code",
      "execution_count": 4,
      "metadata": {
        "colab": {
          "base_uri": "https://localhost:8080/"
        },
        "id": "OnKIJGYsEvFp",
        "outputId": "1e1a6862-5fea-4f18-ace0-5e44d77b5908"
      },
      "outputs": [
        {
          "name": "stdout",
          "output_type": "stream",
          "text": [
            "Files already downloaded and verified\n",
            "Files already downloaded and verified\n"
          ]
        }
      ],
      "source": [
        "# Load the data\n",
        "train = datasets.CIFAR10(root='./data', train=True, download=True)\n",
        "trainDL = DataLoader(train, batch_size=batch_size, shuffle=True)\n",
        "\n",
        "test = datasets.CIFAR10(root='./data', train=False, download=True)\n",
        "testDL = DataLoader(test, batch_size=batch_size, shuffle=False)"
      ]
    },
    {
      "cell_type": "code",
      "execution_count": 5,
      "metadata": {
        "id": "p0CmeTcHE5d0"
      },
      "outputs": [],
      "source": [
        "# Define label mappings for ease of use\n",
        "id2label, label2id = dict(), dict()\n",
        "num_classes = len(trainDL.dataset.classes)\n",
        "\n",
        "for id, label in enumerate(trainDL.dataset.classes):\n",
        "    id2label[id] = label\n",
        "    label2id[label] = id"
      ]
    },
    {
      "cell_type": "code",
      "execution_count": null,
      "metadata": {
        "colab": {
          "base_uri": "https://localhost:8080/",
          "height": 231
        },
        "id": "OqWSxEeyE9Eo",
        "outputId": "9709094b-d95e-4575-9d68-e4b005540513"
      },
      "outputs": [],
      "source": [
        "# Display some images\n",
        "fig, axes = plt.subplots(1, 5)\n",
        "\n",
        "for i, (image, label) in enumerate(trainDL):\n",
        "    if i == 5:\n",
        "        break\n",
        "\n",
        "    image = image[0].permute(1, 2, 0).numpy()\n",
        "\n",
        "    axes[i].imshow(image)\n",
        "    axes[i].set_title(id2label[label[0].item()])\n",
        "    axes[i].axis('off')\n",
        "    print(image.shape)\n",
        "\n",
        "plt.show()"
      ]
    },
    {
      "cell_type": "markdown",
      "metadata": {},
      "source": [
        "## AlexNet"
      ]
    },
    {
      "cell_type": "code",
      "execution_count": 6,
      "metadata": {
        "id": "S8VTr1AKdFBH"
      },
      "outputs": [],
      "source": [
        "# Apply the transforms (not before so the display can show the images normally)\n",
        "trainDL.dataset.transform = transforms.Compose([\n",
        "    transforms.Resize(size=(227, 227)),\n",
        "    transforms.RandomHorizontalFlip(),\n",
        "    transforms.RandomRotation(10),\n",
        "    transforms.ToTensor(),\n",
        "    transforms.Normalize((0.5, 0.5, 0.5),(0.5, 0.5, 0.5)),\n",
        "])\n",
        "\n",
        "testDL.dataset.transform = transforms.Compose([\n",
        "    transforms.Resize(size=(227, 227)),\n",
        "    transforms.ToTensor(),\n",
        "    transforms.Normalize((0.5, 0.5, 0.5),(0.5, 0.5, 0.5)),\n",
        "])"
      ]
    },
    {
      "cell_type": "code",
      "execution_count": null,
      "metadata": {
        "id": "656BVZtsrlgG"
      },
      "outputs": [],
      "source": [
        "# Here we are implementing the AlexNet architecture according to this paper: https://proceedings.neurips.cc/paper_files/paper/2012/file/c399862d3b9d6b76c8436e924a68c45b-Paper.pdf\n",
        "\n",
        "class CIFARCNN(nn.Module):\n",
        "  def __init__(self, num_classes):\n",
        "    super().__init__()\n",
        "\n",
        "    # Input size: (batch_size x 3 x 227 x 227)\n",
        "\n",
        "    self.features = nn.Sequential(\n",
        "        nn.Conv2d(3, 96, kernel_size=11, stride=4),  # (batch_size x 96 x 55 x 55)\n",
        "        nn.BatchNorm2d(96),\n",
        "        nn.ReLU(),\n",
        "        nn.MaxPool2d(kernel_size=3, stride=2),  # (batch_size x 96 x 27 x 27)\n",
        "\n",
        "        nn.Conv2d(96, 256, kernel_size=5, padding=2),  # (batch_size x 256 x 27 x 27)\n",
        "        nn.BatchNorm2d(256),\n",
        "        nn.ReLU(),\n",
        "        nn.MaxPool2d(kernel_size=3, stride=2),  # (batch_size x 256 x 13 x 13)\n",
        "\n",
        "        nn.Conv2d(256, 384, kernel_size=3, padding=1),  # (batch_size x 384 x 13 x 13)\n",
        "        nn.BatchNorm2d(384),\n",
        "        nn.ReLU(),\n",
        "\n",
        "        nn.Conv2d(384, 384, kernel_size=3, padding=1), # (batch_size x 384 x 13 x 13)\n",
        "        nn.BatchNorm2d(384),\n",
        "        nn.ReLU(),\n",
        "\n",
        "        nn.Conv2d(384, 256, kernel_size=3, padding=1),  # (batch_size x 256 x 13 x 13)\n",
        "        nn.BatchNorm2d(256),\n",
        "        nn.ReLU(),\n",
        "        nn.MaxPool2d(kernel_size=3, stride=2)  # (batch_size x 256 x 6 x 6)\n",
        "    )\n",
        "\n",
        "    self.classifier = nn.Sequential(\n",
        "        nn.Dropout(0.5),\n",
        "        nn.Linear(256 * 6 * 6, 4096),\n",
        "        nn.ReLU(),\n",
        "\n",
        "        nn.Dropout(0.5),\n",
        "        nn.Linear(4096, 4096),\n",
        "        nn.ReLU(),\n",
        "\n",
        "        nn.Linear(4096, num_classes)\n",
        "    )\n",
        "\n",
        "  def forward(self, x):\n",
        "    x = self.features(x)\n",
        "    x = x.reshape(x.shape[0], -1)\n",
        "    return self.classifier(x)"
      ]
    },
    {
      "cell_type": "code",
      "execution_count": null,
      "metadata": {
        "colab": {
          "base_uri": "https://localhost:8080/"
        },
        "id": "o5_KCvEWJ6C6",
        "outputId": "bd9e9981-56bb-4fde-e46b-d8b0b82cd922"
      },
      "outputs": [],
      "source": [
        "# Instantiate model, optimizer, and loss function\n",
        "model = CIFARCNN(len(id2label)).to(device)\n",
        "optimizer = optim.Adam(model.parameters(), lr=lr)\n",
        "loss_fn = nn.CrossEntropyLoss()"
      ]
    },
    {
      "cell_type": "code",
      "execution_count": null,
      "metadata": {
        "colab": {
          "base_uri": "https://localhost:8080/",
          "height": 211
        },
        "id": "z6GGwwaVNdAk",
        "outputId": "3166da93-1af5-4c56-ef7b-8f152e5b589c"
      },
      "outputs": [],
      "source": [
        "# Training Loop for AlexNet\n",
        "if trainingFlag == True:\n",
        "  total_steps = len(trainDL)\n",
        "\n",
        "  for epoch in range(num_epochs):\n",
        "    for step, (X, Y) in enumerate(trainDL):\n",
        "      # Move data to same device as model\n",
        "      X, Y = X.to(device), Y.to(device)\n",
        "\n",
        "      # Predict and calculate loss\n",
        "      Y_pred = model(X)\n",
        "      loss = loss_fn(Y_pred, Y)\n",
        "\n",
        "      # Perform backpropagation\n",
        "      optimizer.zero_grad()  # Clear previous gradients\n",
        "      loss.backward()\n",
        "      optimizer.step()\n",
        "\n",
        "      # Print progress\n",
        "      if step % 100 == 0:\n",
        "        loss_val = loss.item()\n",
        "        print(f\"Epoch [{epoch+1}/{num_epochs}], Step [{step}/{total_steps}], Loss: {loss_val:5f}\")\n",
        "\n",
        "    # Validation\n",
        "    with torch.no_grad():\n",
        "      correct, total = 0, 0\n",
        "\n",
        "      for X, Y in testDL:\n",
        "        X, Y = X.to(device), Y.to(device)\n",
        "\n",
        "        Y_pred = model(X)\n",
        "\n",
        "        _, predicted = torch.max(Y_pred.data, 1)\n",
        "\n",
        "        correct += (predicted == Y).sum().item()\n",
        "        total += Y.shape[0]\n",
        "\n",
        "        del X, Y, Y_pred\n",
        "\n",
        "      print(f\"Accuracy: {correct}/{total} ({correct/total * 100:3f}%)\")"
      ]
    },
    {
      "cell_type": "markdown",
      "metadata": {},
      "source": [
        "## Vision Transformer"
      ]
    },
    {
      "cell_type": "code",
      "execution_count": 30,
      "metadata": {},
      "outputs": [],
      "source": [
        "# Set transforms for ViT\n",
        "trainDL.dataset.transform = transforms.Compose([\n",
        "    transforms.Resize(size=(256, 256)),\n",
        "    transforms.RandomHorizontalFlip(),\n",
        "    transforms.RandomRotation(10),\n",
        "    transforms.ToTensor(),\n",
        "    transforms.Normalize((0.5, 0.5, 0.5),(0.5, 0.5, 0.5)),\n",
        "])\n",
        "\n",
        "testDL.dataset.transform = transforms.Compose([\n",
        "    transforms.Resize(size=(256, 256)),\n",
        "    transforms.ToTensor(),\n",
        "    transforms.Normalize((0.5, 0.5, 0.5),(0.5, 0.5, 0.5)),\n",
        "])"
      ]
    },
    {
      "cell_type": "code",
      "execution_count": 25,
      "metadata": {},
      "outputs": [
        {
          "name": "stdout",
          "output_type": "stream",
          "text": [
            "Requirement already satisfied: vit-pytorch in c:\\users\\chris\\anaconda3\\lib\\site-packages (1.6.7)\n",
            "Requirement already satisfied: einops>=0.7.0 in c:\\users\\chris\\anaconda3\\lib\\site-packages (from vit-pytorch) (0.8.0)\n",
            "Requirement already satisfied: torch>=1.10 in c:\\users\\chris\\anaconda3\\lib\\site-packages (from vit-pytorch) (2.2.1+cu118)\n",
            "Requirement already satisfied: torchvision in c:\\users\\chris\\anaconda3\\lib\\site-packages (from vit-pytorch) (0.17.1+cu118)\n",
            "Requirement already satisfied: filelock in c:\\users\\chris\\anaconda3\\lib\\site-packages (from torch>=1.10->vit-pytorch) (3.9.0)\n",
            "Requirement already satisfied: typing-extensions>=4.8.0 in c:\\users\\chris\\anaconda3\\lib\\site-packages (from torch>=1.10->vit-pytorch) (4.8.0)\n",
            "Requirement already satisfied: sympy in c:\\users\\chris\\anaconda3\\lib\\site-packages (from torch>=1.10->vit-pytorch) (1.11.1)\n",
            "Requirement already satisfied: networkx in c:\\users\\chris\\anaconda3\\lib\\site-packages (from torch>=1.10->vit-pytorch) (3.1)\n",
            "Requirement already satisfied: jinja2 in c:\\users\\chris\\anaconda3\\lib\\site-packages (from torch>=1.10->vit-pytorch) (3.1.2)\n",
            "Requirement already satisfied: fsspec in c:\\users\\chris\\anaconda3\\lib\\site-packages (from torch>=1.10->vit-pytorch) (2023.4.0)\n",
            "Requirement already satisfied: numpy in c:\\users\\chris\\anaconda3\\lib\\site-packages (from torchvision->vit-pytorch) (1.24.3)\n",
            "Requirement already satisfied: pillow!=8.3.*,>=5.3.0 in c:\\users\\chris\\anaconda3\\lib\\site-packages (from torchvision->vit-pytorch) (10.0.1)\n",
            "Requirement already satisfied: MarkupSafe>=2.0 in c:\\users\\chris\\anaconda3\\lib\\site-packages (from jinja2->torch>=1.10->vit-pytorch) (2.1.1)\n",
            "Requirement already satisfied: mpmath>=0.19 in c:\\users\\chris\\anaconda3\\lib\\site-packages (from sympy->torch>=1.10->vit-pytorch) (1.3.0)\n"
          ]
        }
      ],
      "source": [
        "# Load a pre-trained model\n",
        "!pip install vit-pytorch\n",
        "\n",
        "from vit_pytorch import SimpleViT\n",
        "\n",
        "model = SimpleViT(\n",
        "    image_size = 256, \n",
        "    patch_size = 32,\n",
        "    num_classes = 10,\n",
        "    dim = 1024,\n",
        "    depth = 6,\n",
        "    heads = 16,\n",
        "    mlp_dim = 2048,\n",
        ")\n"
      ]
    },
    {
      "cell_type": "code",
      "execution_count": 28,
      "metadata": {},
      "outputs": [
        {
          "name": "stdout",
          "output_type": "stream",
          "text": [
            "53541898\n"
          ]
        }
      ],
      "source": [
        "count = 0\n",
        "\n",
        "for param in model.parameters():\n",
        "    count += torch.numel(param)\n",
        "\n",
        "print(count)"
      ]
    },
    {
      "cell_type": "code",
      "execution_count": 31,
      "metadata": {},
      "outputs": [
        {
          "name": "stdout",
          "output_type": "stream",
          "text": [
            "Epoch [1/100], Step [0/2000], Loss: 2.35182\n",
            "Epoch [1/100], Step [100/2000], Loss: 1.94018\n",
            "Epoch [1/100], Step [200/2000], Loss: 2.03321\n",
            "Epoch [1/100], Step [300/2000], Loss: 2.11927\n",
            "Epoch [1/100], Step [400/2000], Loss: 1.94837\n",
            "Epoch [1/100], Step [500/2000], Loss: 2.07217\n",
            "Epoch [1/100], Step [600/2000], Loss: 2.02008\n",
            "Epoch [1/100], Step [700/2000], Loss: 2.18481\n",
            "Epoch [1/100], Step [800/2000], Loss: 2.10587\n"
          ]
        },
        {
          "ename": "KeyboardInterrupt",
          "evalue": "",
          "output_type": "error",
          "traceback": [
            "\u001b[1;31m---------------------------------------------------------------------------\u001b[0m",
            "\u001b[1;31mKeyboardInterrupt\u001b[0m                         Traceback (most recent call last)",
            "Cell \u001b[1;32mIn[31], line 11\u001b[0m\n\u001b[0;32m      8\u001b[0m totalSteps \u001b[38;5;241m=\u001b[39m \u001b[38;5;28mlen\u001b[39m(trainDL)\n\u001b[0;32m     10\u001b[0m \u001b[38;5;28;01mfor\u001b[39;00m epoch \u001b[38;5;129;01min\u001b[39;00m \u001b[38;5;28mrange\u001b[39m(num_epochs):\n\u001b[1;32m---> 11\u001b[0m     \u001b[38;5;28;01mfor\u001b[39;00m step, (X, Y) \u001b[38;5;129;01min\u001b[39;00m \u001b[38;5;28menumerate\u001b[39m(trainDL):\n\u001b[0;32m     12\u001b[0m         X, Y \u001b[38;5;241m=\u001b[39m X\u001b[38;5;241m.\u001b[39mto(device), Y\u001b[38;5;241m.\u001b[39mto(device)\n\u001b[0;32m     14\u001b[0m         Y_pred \u001b[38;5;241m=\u001b[39m model(X)\n",
            "File \u001b[1;32mc:\\Users\\chris\\anaconda3\\Lib\\site-packages\\torch\\utils\\data\\dataloader.py:631\u001b[0m, in \u001b[0;36m_BaseDataLoaderIter.__next__\u001b[1;34m(self)\u001b[0m\n\u001b[0;32m    628\u001b[0m \u001b[38;5;28;01mif\u001b[39;00m \u001b[38;5;28mself\u001b[39m\u001b[38;5;241m.\u001b[39m_sampler_iter \u001b[38;5;129;01mis\u001b[39;00m \u001b[38;5;28;01mNone\u001b[39;00m:\n\u001b[0;32m    629\u001b[0m     \u001b[38;5;66;03m# TODO(https://github.com/pytorch/pytorch/issues/76750)\u001b[39;00m\n\u001b[0;32m    630\u001b[0m     \u001b[38;5;28mself\u001b[39m\u001b[38;5;241m.\u001b[39m_reset()  \u001b[38;5;66;03m# type: ignore[call-arg]\u001b[39;00m\n\u001b[1;32m--> 631\u001b[0m data \u001b[38;5;241m=\u001b[39m \u001b[38;5;28mself\u001b[39m\u001b[38;5;241m.\u001b[39m_next_data()\n\u001b[0;32m    632\u001b[0m \u001b[38;5;28mself\u001b[39m\u001b[38;5;241m.\u001b[39m_num_yielded \u001b[38;5;241m+\u001b[39m\u001b[38;5;241m=\u001b[39m \u001b[38;5;241m1\u001b[39m\n\u001b[0;32m    633\u001b[0m \u001b[38;5;28;01mif\u001b[39;00m \u001b[38;5;28mself\u001b[39m\u001b[38;5;241m.\u001b[39m_dataset_kind \u001b[38;5;241m==\u001b[39m _DatasetKind\u001b[38;5;241m.\u001b[39mIterable \u001b[38;5;129;01mand\u001b[39;00m \\\n\u001b[0;32m    634\u001b[0m         \u001b[38;5;28mself\u001b[39m\u001b[38;5;241m.\u001b[39m_IterableDataset_len_called \u001b[38;5;129;01mis\u001b[39;00m \u001b[38;5;129;01mnot\u001b[39;00m \u001b[38;5;28;01mNone\u001b[39;00m \u001b[38;5;129;01mand\u001b[39;00m \\\n\u001b[0;32m    635\u001b[0m         \u001b[38;5;28mself\u001b[39m\u001b[38;5;241m.\u001b[39m_num_yielded \u001b[38;5;241m>\u001b[39m \u001b[38;5;28mself\u001b[39m\u001b[38;5;241m.\u001b[39m_IterableDataset_len_called:\n",
            "File \u001b[1;32mc:\\Users\\chris\\anaconda3\\Lib\\site-packages\\torch\\utils\\data\\dataloader.py:675\u001b[0m, in \u001b[0;36m_SingleProcessDataLoaderIter._next_data\u001b[1;34m(self)\u001b[0m\n\u001b[0;32m    673\u001b[0m \u001b[38;5;28;01mdef\u001b[39;00m \u001b[38;5;21m_next_data\u001b[39m(\u001b[38;5;28mself\u001b[39m):\n\u001b[0;32m    674\u001b[0m     index \u001b[38;5;241m=\u001b[39m \u001b[38;5;28mself\u001b[39m\u001b[38;5;241m.\u001b[39m_next_index()  \u001b[38;5;66;03m# may raise StopIteration\u001b[39;00m\n\u001b[1;32m--> 675\u001b[0m     data \u001b[38;5;241m=\u001b[39m \u001b[38;5;28mself\u001b[39m\u001b[38;5;241m.\u001b[39m_dataset_fetcher\u001b[38;5;241m.\u001b[39mfetch(index)  \u001b[38;5;66;03m# may raise StopIteration\u001b[39;00m\n\u001b[0;32m    676\u001b[0m     \u001b[38;5;28;01mif\u001b[39;00m \u001b[38;5;28mself\u001b[39m\u001b[38;5;241m.\u001b[39m_pin_memory:\n\u001b[0;32m    677\u001b[0m         data \u001b[38;5;241m=\u001b[39m _utils\u001b[38;5;241m.\u001b[39mpin_memory\u001b[38;5;241m.\u001b[39mpin_memory(data, \u001b[38;5;28mself\u001b[39m\u001b[38;5;241m.\u001b[39m_pin_memory_device)\n",
            "File \u001b[1;32mc:\\Users\\chris\\anaconda3\\Lib\\site-packages\\torch\\utils\\data\\_utils\\fetch.py:51\u001b[0m, in \u001b[0;36m_MapDatasetFetcher.fetch\u001b[1;34m(self, possibly_batched_index)\u001b[0m\n\u001b[0;32m     49\u001b[0m         data \u001b[38;5;241m=\u001b[39m \u001b[38;5;28mself\u001b[39m\u001b[38;5;241m.\u001b[39mdataset\u001b[38;5;241m.\u001b[39m__getitems__(possibly_batched_index)\n\u001b[0;32m     50\u001b[0m     \u001b[38;5;28;01melse\u001b[39;00m:\n\u001b[1;32m---> 51\u001b[0m         data \u001b[38;5;241m=\u001b[39m [\u001b[38;5;28mself\u001b[39m\u001b[38;5;241m.\u001b[39mdataset[idx] \u001b[38;5;28;01mfor\u001b[39;00m idx \u001b[38;5;129;01min\u001b[39;00m possibly_batched_index]\n\u001b[0;32m     52\u001b[0m \u001b[38;5;28;01melse\u001b[39;00m:\n\u001b[0;32m     53\u001b[0m     data \u001b[38;5;241m=\u001b[39m \u001b[38;5;28mself\u001b[39m\u001b[38;5;241m.\u001b[39mdataset[possibly_batched_index]\n",
            "File \u001b[1;32mc:\\Users\\chris\\anaconda3\\Lib\\site-packages\\torch\\utils\\data\\_utils\\fetch.py:51\u001b[0m, in \u001b[0;36m<listcomp>\u001b[1;34m(.0)\u001b[0m\n\u001b[0;32m     49\u001b[0m         data \u001b[38;5;241m=\u001b[39m \u001b[38;5;28mself\u001b[39m\u001b[38;5;241m.\u001b[39mdataset\u001b[38;5;241m.\u001b[39m__getitems__(possibly_batched_index)\n\u001b[0;32m     50\u001b[0m     \u001b[38;5;28;01melse\u001b[39;00m:\n\u001b[1;32m---> 51\u001b[0m         data \u001b[38;5;241m=\u001b[39m [\u001b[38;5;28mself\u001b[39m\u001b[38;5;241m.\u001b[39mdataset[idx] \u001b[38;5;28;01mfor\u001b[39;00m idx \u001b[38;5;129;01min\u001b[39;00m possibly_batched_index]\n\u001b[0;32m     52\u001b[0m \u001b[38;5;28;01melse\u001b[39;00m:\n\u001b[0;32m     53\u001b[0m     data \u001b[38;5;241m=\u001b[39m \u001b[38;5;28mself\u001b[39m\u001b[38;5;241m.\u001b[39mdataset[possibly_batched_index]\n",
            "File \u001b[1;32mc:\\Users\\chris\\anaconda3\\Lib\\site-packages\\torchvision\\datasets\\cifar.py:118\u001b[0m, in \u001b[0;36mCIFAR10.__getitem__\u001b[1;34m(self, index)\u001b[0m\n\u001b[0;32m    115\u001b[0m img \u001b[38;5;241m=\u001b[39m Image\u001b[38;5;241m.\u001b[39mfromarray(img)\n\u001b[0;32m    117\u001b[0m \u001b[38;5;28;01mif\u001b[39;00m \u001b[38;5;28mself\u001b[39m\u001b[38;5;241m.\u001b[39mtransform \u001b[38;5;129;01mis\u001b[39;00m \u001b[38;5;129;01mnot\u001b[39;00m \u001b[38;5;28;01mNone\u001b[39;00m:\n\u001b[1;32m--> 118\u001b[0m     img \u001b[38;5;241m=\u001b[39m \u001b[38;5;28mself\u001b[39m\u001b[38;5;241m.\u001b[39mtransform(img)\n\u001b[0;32m    120\u001b[0m \u001b[38;5;28;01mif\u001b[39;00m \u001b[38;5;28mself\u001b[39m\u001b[38;5;241m.\u001b[39mtarget_transform \u001b[38;5;129;01mis\u001b[39;00m \u001b[38;5;129;01mnot\u001b[39;00m \u001b[38;5;28;01mNone\u001b[39;00m:\n\u001b[0;32m    121\u001b[0m     target \u001b[38;5;241m=\u001b[39m \u001b[38;5;28mself\u001b[39m\u001b[38;5;241m.\u001b[39mtarget_transform(target)\n",
            "File \u001b[1;32mc:\\Users\\chris\\anaconda3\\Lib\\site-packages\\torchvision\\transforms\\transforms.py:95\u001b[0m, in \u001b[0;36mCompose.__call__\u001b[1;34m(self, img)\u001b[0m\n\u001b[0;32m     93\u001b[0m \u001b[38;5;28;01mdef\u001b[39;00m \u001b[38;5;21m__call__\u001b[39m(\u001b[38;5;28mself\u001b[39m, img):\n\u001b[0;32m     94\u001b[0m     \u001b[38;5;28;01mfor\u001b[39;00m t \u001b[38;5;129;01min\u001b[39;00m \u001b[38;5;28mself\u001b[39m\u001b[38;5;241m.\u001b[39mtransforms:\n\u001b[1;32m---> 95\u001b[0m         img \u001b[38;5;241m=\u001b[39m t(img)\n\u001b[0;32m     96\u001b[0m     \u001b[38;5;28;01mreturn\u001b[39;00m img\n",
            "File \u001b[1;32mc:\\Users\\chris\\anaconda3\\Lib\\site-packages\\torch\\nn\\modules\\module.py:1511\u001b[0m, in \u001b[0;36mModule._wrapped_call_impl\u001b[1;34m(self, *args, **kwargs)\u001b[0m\n\u001b[0;32m   1509\u001b[0m     \u001b[38;5;28;01mreturn\u001b[39;00m \u001b[38;5;28mself\u001b[39m\u001b[38;5;241m.\u001b[39m_compiled_call_impl(\u001b[38;5;241m*\u001b[39margs, \u001b[38;5;241m*\u001b[39m\u001b[38;5;241m*\u001b[39mkwargs)  \u001b[38;5;66;03m# type: ignore[misc]\u001b[39;00m\n\u001b[0;32m   1510\u001b[0m \u001b[38;5;28;01melse\u001b[39;00m:\n\u001b[1;32m-> 1511\u001b[0m     \u001b[38;5;28;01mreturn\u001b[39;00m \u001b[38;5;28mself\u001b[39m\u001b[38;5;241m.\u001b[39m_call_impl(\u001b[38;5;241m*\u001b[39margs, \u001b[38;5;241m*\u001b[39m\u001b[38;5;241m*\u001b[39mkwargs)\n",
            "File \u001b[1;32mc:\\Users\\chris\\anaconda3\\Lib\\site-packages\\torch\\nn\\modules\\module.py:1520\u001b[0m, in \u001b[0;36mModule._call_impl\u001b[1;34m(self, *args, **kwargs)\u001b[0m\n\u001b[0;32m   1515\u001b[0m \u001b[38;5;66;03m# If we don't have any hooks, we want to skip the rest of the logic in\u001b[39;00m\n\u001b[0;32m   1516\u001b[0m \u001b[38;5;66;03m# this function, and just call forward.\u001b[39;00m\n\u001b[0;32m   1517\u001b[0m \u001b[38;5;28;01mif\u001b[39;00m \u001b[38;5;129;01mnot\u001b[39;00m (\u001b[38;5;28mself\u001b[39m\u001b[38;5;241m.\u001b[39m_backward_hooks \u001b[38;5;129;01mor\u001b[39;00m \u001b[38;5;28mself\u001b[39m\u001b[38;5;241m.\u001b[39m_backward_pre_hooks \u001b[38;5;129;01mor\u001b[39;00m \u001b[38;5;28mself\u001b[39m\u001b[38;5;241m.\u001b[39m_forward_hooks \u001b[38;5;129;01mor\u001b[39;00m \u001b[38;5;28mself\u001b[39m\u001b[38;5;241m.\u001b[39m_forward_pre_hooks\n\u001b[0;32m   1518\u001b[0m         \u001b[38;5;129;01mor\u001b[39;00m _global_backward_pre_hooks \u001b[38;5;129;01mor\u001b[39;00m _global_backward_hooks\n\u001b[0;32m   1519\u001b[0m         \u001b[38;5;129;01mor\u001b[39;00m _global_forward_hooks \u001b[38;5;129;01mor\u001b[39;00m _global_forward_pre_hooks):\n\u001b[1;32m-> 1520\u001b[0m     \u001b[38;5;28;01mreturn\u001b[39;00m forward_call(\u001b[38;5;241m*\u001b[39margs, \u001b[38;5;241m*\u001b[39m\u001b[38;5;241m*\u001b[39mkwargs)\n\u001b[0;32m   1522\u001b[0m \u001b[38;5;28;01mtry\u001b[39;00m:\n\u001b[0;32m   1523\u001b[0m     result \u001b[38;5;241m=\u001b[39m \u001b[38;5;28;01mNone\u001b[39;00m\n",
            "File \u001b[1;32mc:\\Users\\chris\\anaconda3\\Lib\\site-packages\\torchvision\\transforms\\transforms.py:354\u001b[0m, in \u001b[0;36mResize.forward\u001b[1;34m(self, img)\u001b[0m\n\u001b[0;32m    346\u001b[0m \u001b[38;5;28;01mdef\u001b[39;00m \u001b[38;5;21mforward\u001b[39m(\u001b[38;5;28mself\u001b[39m, img):\n\u001b[0;32m    347\u001b[0m \u001b[38;5;250m    \u001b[39m\u001b[38;5;124;03m\"\"\"\u001b[39;00m\n\u001b[0;32m    348\u001b[0m \u001b[38;5;124;03m    Args:\u001b[39;00m\n\u001b[0;32m    349\u001b[0m \u001b[38;5;124;03m        img (PIL Image or Tensor): Image to be scaled.\u001b[39;00m\n\u001b[1;32m   (...)\u001b[0m\n\u001b[0;32m    352\u001b[0m \u001b[38;5;124;03m        PIL Image or Tensor: Rescaled image.\u001b[39;00m\n\u001b[0;32m    353\u001b[0m \u001b[38;5;124;03m    \"\"\"\u001b[39;00m\n\u001b[1;32m--> 354\u001b[0m     \u001b[38;5;28;01mreturn\u001b[39;00m F\u001b[38;5;241m.\u001b[39mresize(img, \u001b[38;5;28mself\u001b[39m\u001b[38;5;241m.\u001b[39msize, \u001b[38;5;28mself\u001b[39m\u001b[38;5;241m.\u001b[39minterpolation, \u001b[38;5;28mself\u001b[39m\u001b[38;5;241m.\u001b[39mmax_size, \u001b[38;5;28mself\u001b[39m\u001b[38;5;241m.\u001b[39mantialias)\n",
            "File \u001b[1;32mc:\\Users\\chris\\anaconda3\\Lib\\site-packages\\torchvision\\transforms\\functional.py:467\u001b[0m, in \u001b[0;36mresize\u001b[1;34m(img, size, interpolation, max_size, antialias)\u001b[0m\n\u001b[0;32m    465\u001b[0m         warnings\u001b[38;5;241m.\u001b[39mwarn(\u001b[38;5;124m\"\u001b[39m\u001b[38;5;124mAnti-alias option is always applied for PIL Image input. Argument antialias is ignored.\u001b[39m\u001b[38;5;124m\"\u001b[39m)\n\u001b[0;32m    466\u001b[0m     pil_interpolation \u001b[38;5;241m=\u001b[39m pil_modes_mapping[interpolation]\n\u001b[1;32m--> 467\u001b[0m     \u001b[38;5;28;01mreturn\u001b[39;00m F_pil\u001b[38;5;241m.\u001b[39mresize(img, size\u001b[38;5;241m=\u001b[39moutput_size, interpolation\u001b[38;5;241m=\u001b[39mpil_interpolation)\n\u001b[0;32m    469\u001b[0m \u001b[38;5;28;01mreturn\u001b[39;00m F_t\u001b[38;5;241m.\u001b[39mresize(img, size\u001b[38;5;241m=\u001b[39moutput_size, interpolation\u001b[38;5;241m=\u001b[39minterpolation\u001b[38;5;241m.\u001b[39mvalue, antialias\u001b[38;5;241m=\u001b[39mantialias)\n",
            "File \u001b[1;32mc:\\Users\\chris\\anaconda3\\Lib\\site-packages\\torchvision\\transforms\\_functional_pil.py:250\u001b[0m, in \u001b[0;36mresize\u001b[1;34m(img, size, interpolation)\u001b[0m\n\u001b[0;32m    247\u001b[0m \u001b[38;5;28;01mif\u001b[39;00m \u001b[38;5;129;01mnot\u001b[39;00m (\u001b[38;5;28misinstance\u001b[39m(size, \u001b[38;5;28mlist\u001b[39m) \u001b[38;5;129;01mand\u001b[39;00m \u001b[38;5;28mlen\u001b[39m(size) \u001b[38;5;241m==\u001b[39m \u001b[38;5;241m2\u001b[39m):\n\u001b[0;32m    248\u001b[0m     \u001b[38;5;28;01mraise\u001b[39;00m \u001b[38;5;167;01mTypeError\u001b[39;00m(\u001b[38;5;124mf\u001b[39m\u001b[38;5;124m\"\u001b[39m\u001b[38;5;124mGot inappropriate size arg: \u001b[39m\u001b[38;5;132;01m{\u001b[39;00msize\u001b[38;5;132;01m}\u001b[39;00m\u001b[38;5;124m\"\u001b[39m)\n\u001b[1;32m--> 250\u001b[0m \u001b[38;5;28;01mreturn\u001b[39;00m img\u001b[38;5;241m.\u001b[39mresize(\u001b[38;5;28mtuple\u001b[39m(size[::\u001b[38;5;241m-\u001b[39m\u001b[38;5;241m1\u001b[39m]), interpolation)\n",
            "File \u001b[1;32mc:\\Users\\chris\\anaconda3\\Lib\\site-packages\\PIL\\Image.py:2174\u001b[0m, in \u001b[0;36mImage.resize\u001b[1;34m(self, size, resample, box, reducing_gap)\u001b[0m\n\u001b[0;32m   2166\u001b[0m             \u001b[38;5;28mself\u001b[39m \u001b[38;5;241m=\u001b[39m Image\u001b[38;5;241m.\u001b[39mreduce(\u001b[38;5;28mself\u001b[39m, factor, box\u001b[38;5;241m=\u001b[39mreduce_box)\n\u001b[0;32m   2167\u001b[0m         box \u001b[38;5;241m=\u001b[39m (\n\u001b[0;32m   2168\u001b[0m             (box[\u001b[38;5;241m0\u001b[39m] \u001b[38;5;241m-\u001b[39m reduce_box[\u001b[38;5;241m0\u001b[39m]) \u001b[38;5;241m/\u001b[39m factor_x,\n\u001b[0;32m   2169\u001b[0m             (box[\u001b[38;5;241m1\u001b[39m] \u001b[38;5;241m-\u001b[39m reduce_box[\u001b[38;5;241m1\u001b[39m]) \u001b[38;5;241m/\u001b[39m factor_y,\n\u001b[0;32m   2170\u001b[0m             (box[\u001b[38;5;241m2\u001b[39m] \u001b[38;5;241m-\u001b[39m reduce_box[\u001b[38;5;241m0\u001b[39m]) \u001b[38;5;241m/\u001b[39m factor_x,\n\u001b[0;32m   2171\u001b[0m             (box[\u001b[38;5;241m3\u001b[39m] \u001b[38;5;241m-\u001b[39m reduce_box[\u001b[38;5;241m1\u001b[39m]) \u001b[38;5;241m/\u001b[39m factor_y,\n\u001b[0;32m   2172\u001b[0m         )\n\u001b[1;32m-> 2174\u001b[0m \u001b[38;5;28;01mreturn\u001b[39;00m \u001b[38;5;28mself\u001b[39m\u001b[38;5;241m.\u001b[39m_new(\u001b[38;5;28mself\u001b[39m\u001b[38;5;241m.\u001b[39mim\u001b[38;5;241m.\u001b[39mresize(size, resample, box))\n",
            "\u001b[1;31mKeyboardInterrupt\u001b[0m: "
          ]
        }
      ],
      "source": [
        "# Define training loop for Vision Transformer\n",
        "optimizer = optim.Adam(model.parameters(), lr=lr)\n",
        "loss_fn = nn.CrossEntropyLoss()\n",
        "\n",
        "model = model.to(device)\n",
        "\n",
        "if trainingFlag == True:\n",
        "    totalSteps = len(trainDL)\n",
        "    \n",
        "    for epoch in range(num_epochs):\n",
        "        for step, (X, Y) in enumerate(trainDL):\n",
        "            X, Y = X.to(device), Y.to(device)\n",
        "            \n",
        "            Y_pred = model(X)\n",
        "            loss = loss_fn(Y_pred, Y)\n",
        "\n",
        "            optimizer.zero_grad()\n",
        "            loss.backward()\n",
        "            optimizer.step()\n",
        "\n",
        "            if step % 100 == 0:\n",
        "                lossVal = loss.item()\n",
        "                print(f\"Epoch [{epoch+1}/{num_epochs}], Step [{step}/{totalSteps}], Loss: {lossVal:.5f}\")\n",
        "    \n",
        "        with torch.no_grad():\n",
        "            correct, total = 0, 0\n",
        "\n",
        "            for X, Y in testDL:\n",
        "                X, Y = X.to(device), Y.to(device)\n",
        "\n",
        "                Y_pred = model(X)\n",
        "\n",
        "                _, predicted = torch.max(Y_pred.data, 1)\n",
        "\n",
        "                correct += (predicted == Y).sum().item()\n",
        "                total += Y.shape[0]\n",
        "\n",
        "                del X, Y, Y_pred\n",
        "\n",
        "            print(f\"Accuracy: {correct}/{total} ({correct/total * 100:3f}%)\")"
      ]
    }
  ],
  "metadata": {
    "accelerator": "GPU",
    "colab": {
      "gpuType": "T4",
      "provenance": []
    },
    "kernelspec": {
      "display_name": "Python 3",
      "name": "python3"
    },
    "language_info": {
      "codemirror_mode": {
        "name": "ipython",
        "version": 3
      },
      "file_extension": ".py",
      "mimetype": "text/x-python",
      "name": "python",
      "nbconvert_exporter": "python",
      "pygments_lexer": "ipython3",
      "version": "3.11.5"
    }
  },
  "nbformat": 4,
  "nbformat_minor": 0
}

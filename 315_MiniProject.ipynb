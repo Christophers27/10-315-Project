{
  "cells": [
    {
      "cell_type": "markdown",
      "metadata": {
        "id": "0laPSUqxUavr"
      },
      "source": [
        "# Effects of Model Complexity and Structure with Image Classification\n",
        "\n",
        "By: Alexander Jiang, Christopher Setiabudi, Tanvir Rasul"
      ]
    },
    {
      "cell_type": "markdown",
      "metadata": {
        "id": "XLyi6mbvn0FL"
      },
      "source": [
        "## Model Card\n",
        "\n",
        "Task Input: 3x32x32 Image\n",
        "\n",
        "Task Output: Class (integer representing 1 of 10 classes)\n",
        "\n",
        "Training Dataset: CIFAR-10\n",
        "\n",
        "Intended Use: Classify images into one of ten classes\n",
        "\n",
        "Risks: None we can think of"
      ]
    },
    {
      "cell_type": "markdown",
      "metadata": {
        "id": "UulcLdpQoVyD"
      },
      "source": [
        "## Introduction\n",
        "\n",
        "With an image classification task, we will analyze the performance and efficiency of two computer vision architectures, given limited computational resources and time. We will be implementing a traditional Convolutional Neural Network (CNN) and a pre-trained Vision Transformer. The dataset consists of 3x32x32 images, with an integer label from 0-9 (10 classes: airplane, automobile, bird, cat, deer, dog, frog, horse, ship, truck)."
      ]
    },
    {
      "cell_type": "code",
      "execution_count": null,
      "metadata": {
        "id": "Qw2T00_EnjgP"
      },
      "outputs": [],
      "source": [
        "trainingFlag = True"
      ]
    },
    {
      "cell_type": "markdown",
      "metadata": {
        "id": "tpq1U6K6GeTu"
      },
      "source": [
        "## Install and import libraries"
      ]
    },
    {
      "cell_type": "code",
      "execution_count": null,
      "metadata": {
        "id": "OLNAwGYSEs1_"
      },
      "outputs": [],
      "source": [
        "# Import necessary packages\n",
        "import matplotlib.pyplot as plt\n",
        "\n",
        "import torch\n",
        "import torch.nn as nn\n",
        "import torch.optim as optim\n",
        "from torch.utils.data import DataLoader\n",
        "from torchvision import transforms, datasets\n",
        "\n",
        "# Set device\n",
        "device = torch.device(\"cuda\" if torch.cuda.is_available() else \"cpu\")"
      ]
    },
    {
      "cell_type": "code",
      "execution_count": null,
      "metadata": {
        "id": "kcBm2EK3waJa"
      },
      "outputs": [],
      "source": [
        "# Hyperparameters\n",
        "batch_size = 25\n",
        "lr = 0.001\n",
        "num_epochs = 100"
      ]
    },
    {
      "cell_type": "markdown",
      "metadata": {
        "id": "JISXSdEMGmJd"
      },
      "source": [
        "## Download and prepare dataset"
      ]
    },
    {
      "cell_type": "code",
      "execution_count": null,
      "metadata": {
        "colab": {
          "base_uri": "https://localhost:8080/"
        },
        "id": "OnKIJGYsEvFp",
        "outputId": "1e1a6862-5fea-4f18-ace0-5e44d77b5908"
      },
      "outputs": [],
      "source": [
        "# Load the data\n",
        "train = datasets.CIFAR10(root='./data', train=True, download=True)\n",
        "trainDL = DataLoader(train, batch_size=batch_size, shuffle=True)\n",
        "\n",
        "test = datasets.CIFAR10(root='./data', train=False, download=True)\n",
        "testDL = DataLoader(test, batch_size=batch_size, shuffle=False)"
      ]
    },
    {
      "cell_type": "code",
      "execution_count": null,
      "metadata": {
        "id": "p0CmeTcHE5d0"
      },
      "outputs": [],
      "source": [
        "# Define label mappings for ease of use\n",
        "id2label, label2id = dict(), dict()\n",
        "\n",
        "for id, label in enumerate(trainDL.dataset.classes):\n",
        "    id2label[id] = label\n",
        "    label2id[label] = id"
      ]
    },
    {
      "cell_type": "code",
      "execution_count": null,
      "metadata": {
        "colab": {
          "base_uri": "https://localhost:8080/",
          "height": 231
        },
        "id": "OqWSxEeyE9Eo",
        "outputId": "9709094b-d95e-4575-9d68-e4b005540513"
      },
      "outputs": [],
      "source": [
        "# Display some images\n",
        "fig, axes = plt.subplots(1, 5)\n",
        "\n",
        "for i, (image, label) in enumerate(trainDL):\n",
        "    if i == 5:\n",
        "        break\n",
        "\n",
        "    image = image[0].permute(1, 2, 0).numpy()\n",
        "\n",
        "    axes[i].imshow(image)\n",
        "    axes[i].set_title(id2label[label[0].item()])\n",
        "    axes[i].axis('off')\n",
        "    print(image.shape)\n",
        "\n",
        "plt.show()"
      ]
    },
    {
      "cell_type": "code",
      "execution_count": null,
      "metadata": {
        "id": "S8VTr1AKdFBH"
      },
      "outputs": [],
      "source": [
        "# Apply the transforms (not before so the display can show the images normally)\n",
        "trainDL.dataset.transform = transforms.Compose([\n",
        "    transforms.Resize(size=(227, 227)),\n",
        "    transforms.RandomHorizontalFlip(),\n",
        "    transforms.RandomRotation(10),\n",
        "    transforms.ToTensor(),\n",
        "    transforms.Normalize((0.5, 0.5, 0.5),(0.5, 0.5, 0.5)),\n",
        "])\n",
        "\n",
        "testDL.dataset.transform = transforms.Compose([\n",
        "    transforms.Resize(size=(227, 227)),\n",
        "    transforms.ToTensor(),\n",
        "    transforms.Normalize((0.5, 0.5, 0.5),(0.5, 0.5, 0.5)),\n",
        "])"
      ]
    },
    {
      "cell_type": "code",
      "execution_count": null,
      "metadata": {
        "id": "656BVZtsrlgG"
      },
      "outputs": [],
      "source": [
        "# Here we are implementing the AlexNet architecture according to this paper: https://proceedings.neurips.cc/paper_files/paper/2012/file/c399862d3b9d6b76c8436e924a68c45b-Paper.pdf\n",
        "\n",
        "class CIFARCNN(nn.Module):\n",
        "  def __init__(self, num_classes):\n",
        "    super().__init__()\n",
        "\n",
        "    # Input size: (batch_size x 3 x 227 x 227)\n",
        "\n",
        "    self.features = nn.Sequential(\n",
        "        nn.Conv2d(3, 96, kernel_size=11, stride=4),  # (batch_size x 96 x 55 x 55)\n",
        "        nn.BatchNorm2d(96),\n",
        "        nn.ReLU(),\n",
        "        nn.MaxPool2d(kernel_size=3, stride=2),  # (batch_size x 96 x 27 x 27)\n",
        "\n",
        "        nn.Conv2d(96, 256, kernel_size=5, padding=2),  # (batch_size x 256 x 27 x 27)\n",
        "        nn.BatchNorm2d(256),\n",
        "        nn.ReLU(),\n",
        "        nn.MaxPool2d(kernel_size=3, stride=2),  # (batch_size x 256 x 13 x 13)\n",
        "\n",
        "        nn.Conv2d(256, 384, kernel_size=3, padding=1),  # (batch_size x 384 x 13 x 13)\n",
        "        nn.BatchNorm2d(384),\n",
        "        nn.ReLU(),\n",
        "\n",
        "        nn.Conv2d(384, 384, kernel_size=3, padding=1), # (batch_size x 384 x 13 x 13)\n",
        "        nn.BatchNorm2d(384),\n",
        "        nn.ReLU(),\n",
        "\n",
        "        nn.Conv2d(384, 256, kernel_size=3, padding=1),  # (batch_size x 256 x 13 x 13)\n",
        "        nn.BatchNorm2d(256),\n",
        "        nn.ReLU(),\n",
        "        nn.MaxPool2d(kernel_size=3, stride=2)  # (batch_size x 256 x 6 x 6)\n",
        "    )\n",
        "\n",
        "    self.classifier = nn.Sequential(\n",
        "        nn.Dropout(0.5),\n",
        "        nn.Linear(256 * 6 * 6, 4096),\n",
        "        nn.ReLU(),\n",
        "\n",
        "        nn.Dropout(0.5),\n",
        "        nn.Linear(4096, 4096),\n",
        "        nn.ReLU(),\n",
        "\n",
        "        nn.Linear(4096, num_classes)\n",
        "    )\n",
        "\n",
        "    self.finalActivation = nn.Softmax()\n",
        "\n",
        "  def forward(self, x):\n",
        "    x = self.features(x)\n",
        "\n",
        "    x = x.reshape(x.shape[0], -1)\n",
        "\n",
        "    logits = self.classifier(x)\n",
        "    # pred = self.finalActivation(logits)\n",
        "    return logits"
      ]
    },
    {
      "cell_type": "code",
      "execution_count": null,
      "metadata": {
        "colab": {
          "base_uri": "https://localhost:8080/"
        },
        "id": "o5_KCvEWJ6C6",
        "outputId": "bd9e9981-56bb-4fde-e46b-d8b0b82cd922"
      },
      "outputs": [],
      "source": [
        "# Set device\n",
        "device = \"cuda\" if torch.cuda.is_available() else (\"mps\" if torch.backend.mps.is_available() else \"cpu\")\n",
        "print(f\"Device: {device}\")\n",
        "\n",
        "# Instantiate model, optimizer, and loss function\n",
        "model = CIFARCNN(len(id2label)).to(device)\n",
        "optimizer = optim.Adam(model.parameters(), lr=lr)\n",
        "loss_fn = nn.CrossEntropyLoss()"
      ]
    },
    {
      "cell_type": "code",
      "execution_count": null,
      "metadata": {
        "colab": {
          "base_uri": "https://localhost:8080/",
          "height": 211
        },
        "id": "z6GGwwaVNdAk",
        "outputId": "3166da93-1af5-4c56-ef7b-8f152e5b589c"
      },
      "outputs": [],
      "source": [
        "# Training Loop for AlexNet\n",
        "\n",
        "if trainingFlag == True:\n",
        "  total_steps = len(trainDL)\n",
        "\n",
        "  for epoch in range(num_epochs):\n",
        "    for step, (X, Y) in enumerate(trainDL):\n",
        "      # Move data to same device as model\n",
        "      X, Y = X.to(device), Y.to(device)\n",
        "\n",
        "      # Predict and calculate loss\n",
        "      Y_pred = model(X)\n",
        "      loss = loss_fn(Y_pred, Y)\n",
        "\n",
        "      # Perform backpropagation\n",
        "      optimizer.zero_grad()  # The optimizer stores any calculated gradients, and in this case we do not use previously calculated gradients so we clear it\n",
        "      loss.backward()\n",
        "      optimizer.step()\n",
        "\n",
        "      # Print progress\n",
        "      if step % 100 == 0:\n",
        "        loss_val = loss.item()\n",
        "        print(f\"Epoch [{epoch+1}/{num_epochs}], Step [{step}/{total_steps}], Loss: {loss_val:5f}\")\n",
        "\n",
        "    # Validation\n",
        "    with torch.no_grad():\n",
        "      correct, total = 0, 0\n",
        "\n",
        "      for X, Y in testDL:\n",
        "        X, Y = X.to(device), Y.to(device)\n",
        "\n",
        "        Y_pred = model(X)\n",
        "\n",
        "        _, predicted = torch.max(Y_pred.data, 1)\n",
        "\n",
        "        correct += (predicted == Y).sum().item()\n",
        "        total += Y.shape[0]\n",
        "\n",
        "        del X, Y, Y_pred\n",
        "\n",
        "      print(f\"Accuracy: {correct}/{total} ({correct/total * 100:3f}%)\")"
      ]
    }
  ],
  "metadata": {
    "accelerator": "GPU",
    "colab": {
      "gpuType": "T4",
      "provenance": []
    },
    "kernelspec": {
      "display_name": "Python 3",
      "name": "python3"
    },
    "language_info": {
      "codemirror_mode": {
        "name": "ipython",
        "version": 3
      },
      "file_extension": ".py",
      "mimetype": "text/x-python",
      "name": "python",
      "nbconvert_exporter": "python",
      "pygments_lexer": "ipython3",
      "version": "3.11.5"
    }
  },
  "nbformat": 4,
  "nbformat_minor": 0
}
